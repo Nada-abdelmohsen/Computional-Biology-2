{
 "cells": [
  {
   "cell_type": "code",
   "execution_count": 60,
   "id": "2c4e7b85",
   "metadata": {},
   "outputs": [],
   "source": [
    "import cobra"
   ]
  },
  {
   "cell_type": "code",
   "execution_count": 61,
   "id": "a409ad09",
   "metadata": {},
   "outputs": [],
   "source": [
    "from cobra import Model,Metabolite,Reaction"
   ]
  },
  {
   "cell_type": "code",
   "execution_count": 62,
   "id": "88533804",
   "metadata": {},
   "outputs": [],
   "source": [
    "model_name=Model(\"Model1\")"
   ]
  },
  {
   "cell_type": "code",
   "execution_count": 63,
   "id": "3c9a71e1",
   "metadata": {},
   "outputs": [],
   "source": [
    "########  Reactions  ##########\n",
    "\n",
    "# Reaction 0 : v0 to A\n",
    "\n",
    "v0=Reaction('v0')\n",
    "v0.name='V0'\n",
    "v0.lower_bound=1\n",
    "v0.upper_bound=1\n",
    "\n",
    "# Reaction 1 : A to B\n",
    "\n",
    "v1=Reaction('v1')\n",
    "v1.name='V1'\n",
    "v1.lower_bound=0\n",
    "v1.upper_bound=1000\n",
    "\n",
    "# Reaction 2 : B to C\n",
    "\n",
    "v2=Reaction('v2')\n",
    "v2.name='V2'\n",
    "v2.lower_bound=0\n",
    "v2.upper_bound=1000\n",
    "\n",
    "# ATP Reaction : A to ATP\n",
    "\n",
    "r_ATP=Reaction('r_ATP')\n",
    "r_ATP.name='R_ATP'\n",
    "r_ATP.lower_bound=0\n",
    "r_ATP.upper_bound=1000\n",
    "\n",
    "# Reaction 3 : ATP to outside the cell\n",
    "\n",
    "v3=Reaction('v3')\n",
    "r_ATP.name='V3'\n",
    "r_ATP.lower_bound=0.9\n",
    "r_ATP.upper_bound=0.9\n",
    "\n",
    "# Reaction M : C to outside the cell\n",
    "\n",
    "M=Reaction('M')\n",
    "M.name='M'\n",
    "M.lower_bound=0\n",
    "M.upper_bound=1000"
   ]
  },
  {
   "cell_type": "code",
   "execution_count": 64,
   "id": "0ef4f609",
   "metadata": {},
   "outputs": [],
   "source": [
    "######  Metabolites  ######\n",
    "\n",
    "A= Metabolite('A',compartment='c')\n",
    "B= Metabolite('B',compartment='c')\n",
    "C= Metabolite('C',compartment='c')\n",
    "ATP= Metabolite('ATP',compartment='c')"
   ]
  },
  {
   "cell_type": "code",
   "execution_count": 65,
   "id": "3dc62e13",
   "metadata": {},
   "outputs": [],
   "source": [
    "# Add metabolites in Reaction 1 #\n",
    "\n",
    "v1.add_metabolites({A:-1,B:1})\n",
    "\n",
    "# Add metabolites in Reaction 2 #\n",
    "\n",
    "v2.add_metabolites({B:-1,C:1})\n",
    "\n",
    "# Add metabolites in Reaction 0 #\n",
    "\n",
    "v0.add_metabolites({A:1})\n",
    "\n",
    "# Add metabolites in Reaction M #\n",
    "\n",
    "M.add_metabolites({C:-1})\n",
    "\n",
    "# Add metabolites in reaction r_ATP #\n",
    "\n",
    "r_ATP.add_metabolites({A:-1,ATP:1})\n",
    "\n",
    "# Add metabolites in Reaction 3 #\n",
    "\n",
    "v3.add_metabolites({ATP:-1})\n"
   ]
  },
  {
   "cell_type": "code",
   "execution_count": 66,
   "id": "03058b4f",
   "metadata": {},
   "outputs": [],
   "source": [
    "# Add Reactions in model  #\n",
    "\n",
    "model_name.add_reactions([v0,v1,v2,v3,M,r_ATP])"
   ]
  },
  {
   "cell_type": "code",
   "execution_count": 67,
   "id": "2aac5f5e",
   "metadata": {},
   "outputs": [],
   "source": [
    "# Put M as a objective function #\n",
    "\n",
    "model_name.objective = 'M'"
   ]
  },
  {
   "cell_type": "code",
   "execution_count": 68,
   "id": "ab95df82",
   "metadata": {},
   "outputs": [
    {
     "data": {
      "text/html": [
       "<strong><em>Optimal</em> solution with objective value 0.100</strong><br><div>\n",
       "<style scoped>\n",
       "    .dataframe tbody tr th:only-of-type {\n",
       "        vertical-align: middle;\n",
       "    }\n",
       "\n",
       "    .dataframe tbody tr th {\n",
       "        vertical-align: top;\n",
       "    }\n",
       "\n",
       "    .dataframe thead th {\n",
       "        text-align: right;\n",
       "    }\n",
       "</style>\n",
       "<table border=\"1\" class=\"dataframe\">\n",
       "  <thead>\n",
       "    <tr style=\"text-align: right;\">\n",
       "      <th></th>\n",
       "      <th>fluxes</th>\n",
       "      <th>reduced_costs</th>\n",
       "    </tr>\n",
       "  </thead>\n",
       "  <tbody>\n",
       "    <tr>\n",
       "      <th>v0</th>\n",
       "      <td>1.0</td>\n",
       "      <td>2.0</td>\n",
       "    </tr>\n",
       "    <tr>\n",
       "      <th>v1</th>\n",
       "      <td>0.1</td>\n",
       "      <td>0.0</td>\n",
       "    </tr>\n",
       "    <tr>\n",
       "      <th>v2</th>\n",
       "      <td>0.1</td>\n",
       "      <td>0.0</td>\n",
       "    </tr>\n",
       "    <tr>\n",
       "      <th>v3</th>\n",
       "      <td>0.9</td>\n",
       "      <td>0.0</td>\n",
       "    </tr>\n",
       "    <tr>\n",
       "      <th>M</th>\n",
       "      <td>0.1</td>\n",
       "      <td>0.0</td>\n",
       "    </tr>\n",
       "    <tr>\n",
       "      <th>r_ATP</th>\n",
       "      <td>0.9</td>\n",
       "      <td>-2.0</td>\n",
       "    </tr>\n",
       "  </tbody>\n",
       "</table>\n",
       "</div>"
      ],
      "text/plain": [
       "<Solution 0.100 at 0x1c591f812b0>"
      ]
     },
     "execution_count": 68,
     "metadata": {},
     "output_type": "execute_result"
    }
   ],
   "source": [
    "model_name.optimize()"
   ]
  },
  {
   "cell_type": "code",
   "execution_count": 69,
   "id": "928ee779",
   "metadata": {},
   "outputs": [
    {
     "data": {
      "text/html": [
       "<h3>Objective</h3><p>1.0 M = 0.09999999999999998</p><h4>Uptake</h4><table border=\"1\" class=\"dataframe\">\n",
       "  <thead>\n",
       "    <tr style=\"text-align: right;\">\n",
       "      <th>Metabolite</th>\n",
       "      <th>Reaction</th>\n",
       "      <th>Flux</th>\n",
       "      <th>C-Number</th>\n",
       "      <th>C-Flux</th>\n",
       "    </tr>\n",
       "  </thead>\n",
       "  <tbody>\n",
       "    <tr>\n",
       "      <td>A</td>\n",
       "      <td>v0</td>\n",
       "      <td>1</td>\n",
       "      <td>0</td>\n",
       "      <td>0.00%</td>\n",
       "    </tr>\n",
       "  </tbody>\n",
       "</table><h4>Secretion</h4><table border=\"1\" class=\"dataframe\">\n",
       "  <thead>\n",
       "    <tr style=\"text-align: right;\">\n",
       "      <th>Metabolite</th>\n",
       "      <th>Reaction</th>\n",
       "      <th>Flux</th>\n",
       "      <th>C-Number</th>\n",
       "      <th>C-Flux</th>\n",
       "    </tr>\n",
       "  </thead>\n",
       "  <tbody>\n",
       "    <tr>\n",
       "      <td>C</td>\n",
       "      <td>M</td>\n",
       "      <td>-0.1</td>\n",
       "      <td>0</td>\n",
       "      <td>0.00%</td>\n",
       "    </tr>\n",
       "    <tr>\n",
       "      <td>ATP</td>\n",
       "      <td>v3</td>\n",
       "      <td>-0.9</td>\n",
       "      <td>0</td>\n",
       "      <td>0.00%</td>\n",
       "    </tr>\n",
       "  </tbody>\n",
       "</table>"
      ],
      "text/plain": [
       "<cobra.summary.model_summary.ModelSummary at 0x1c591f81310>"
      ]
     },
     "execution_count": 69,
     "metadata": {},
     "output_type": "execute_result"
    }
   ],
   "source": [
    "model_name.summary()"
   ]
  }
 ],
 "metadata": {
  "kernelspec": {
   "display_name": "Python 3",
   "language": "python",
   "name": "python3"
  },
  "language_info": {
   "codemirror_mode": {
    "name": "ipython",
    "version": 3
   },
   "file_extension": ".py",
   "mimetype": "text/x-python",
   "name": "python",
   "nbconvert_exporter": "python",
   "pygments_lexer": "ipython3",
   "version": "3.8.8"
  }
 },
 "nbformat": 4,
 "nbformat_minor": 5
}
