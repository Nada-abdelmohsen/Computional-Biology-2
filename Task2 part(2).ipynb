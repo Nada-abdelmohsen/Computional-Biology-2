{
 "cells": [
  {
   "cell_type": "code",
   "execution_count": 23,
   "id": "71851218",
   "metadata": {},
   "outputs": [],
   "source": [
    "import cobra,escher"
   ]
  },
  {
   "cell_type": "code",
   "execution_count": 24,
   "id": "fd0cc1ce",
   "metadata": {},
   "outputs": [],
   "source": [
    "from cobra import Model,Reaction,Metabolite"
   ]
  },
  {
   "cell_type": "code",
   "execution_count": 25,
   "id": "532086ee",
   "metadata": {},
   "outputs": [],
   "source": [
    "from escher import Builder"
   ]
  },
  {
   "cell_type": "code",
   "execution_count": 26,
   "id": "de751312",
   "metadata": {},
   "outputs": [],
   "source": [
    "model_name=Model('Task2')"
   ]
  },
  {
   "cell_type": "code",
   "execution_count": 27,
   "id": "db16c158",
   "metadata": {},
   "outputs": [],
   "source": [
    "########  Reactions  ##########\n",
    "\n",
    "# Reaction 0 : v0 to glc\n",
    "\n",
    "v0=Reaction('v0')\n",
    "v0.name='v0'\n",
    "v0.lower_bound=1\n",
    "v0.upper_bound=1\n",
    "\n",
    "# Reaction 1 : glc to AA\n",
    "\n",
    "v1=Reaction('v1')\n",
    "v1.name='v1'\n",
    "v1.lower_bound=0\n",
    "v1.upper_bound=1000\n",
    "\n",
    "# Reaction 2 : AA to Biomass\n",
    "\n",
    "v2=Reaction('v2')\n",
    "v2.name='v2'\n",
    "v2.lower_bound=0\n",
    "v2.upper_bound=1000\n",
    "\n",
    "# Reaction M : Biomass to outside the cell\n",
    "\n",
    "M=Reaction('M')\n",
    "M.name='M'\n",
    "M.lower_bound=0\n",
    "M.upper_bound=1000\n"
   ]
  },
  {
   "cell_type": "code",
   "execution_count": 28,
   "id": "93b7d224",
   "metadata": {},
   "outputs": [],
   "source": [
    "######  Metabolites  ######\n",
    "\n",
    "glc=Metabolite('glc',compartment='c')\n",
    "AA=Metabolite('AA',compartment='c')\n",
    "Biomass=Metabolite('Biomass',compartment='c')"
   ]
  },
  {
   "cell_type": "code",
   "execution_count": 29,
   "id": "6cc51ab8",
   "metadata": {},
   "outputs": [],
   "source": [
    "# Add metabolites in Reaction 0 #\n",
    "\n",
    "v0.add_metabolites({glc:1})\n",
    "\n",
    "# Add metabolites in Reaction 1 #\n",
    "\n",
    "v1.add_metabolites({glc:-1,AA:1})\n",
    "\n",
    "# Add metabolites in Reaction 2 #\n",
    "\n",
    "v2.add_metabolites({AA:-9.09,Biomass:1})\n",
    "\n",
    "# Add metabolites in Reaction M #\n",
    "\n",
    "M.add_metabolites({Biomass:-1})"
   ]
  },
  {
   "cell_type": "code",
   "execution_count": 30,
   "id": "8fdfc4db",
   "metadata": {},
   "outputs": [],
   "source": [
    "# Add Reactions in model  #\n",
    "\n",
    "model_name.add_reactions([v0,v1,v2,M])"
   ]
  },
  {
   "cell_type": "code",
   "execution_count": 31,
   "id": "990b3012",
   "metadata": {},
   "outputs": [],
   "source": [
    "# Put M as a objective function #\n",
    "\n",
    "model_name.objective='M'"
   ]
  },
  {
   "cell_type": "code",
   "execution_count": 32,
   "id": "4d2d3e74",
   "metadata": {},
   "outputs": [
    {
     "data": {
      "text/html": [
       "<strong><em>Optimal</em> solution with objective value 0.110</strong><br><div>\n",
       "<style scoped>\n",
       "    .dataframe tbody tr th:only-of-type {\n",
       "        vertical-align: middle;\n",
       "    }\n",
       "\n",
       "    .dataframe tbody tr th {\n",
       "        vertical-align: top;\n",
       "    }\n",
       "\n",
       "    .dataframe thead th {\n",
       "        text-align: right;\n",
       "    }\n",
       "</style>\n",
       "<table border=\"1\" class=\"dataframe\">\n",
       "  <thead>\n",
       "    <tr style=\"text-align: right;\">\n",
       "      <th></th>\n",
       "      <th>fluxes</th>\n",
       "      <th>reduced_costs</th>\n",
       "    </tr>\n",
       "  </thead>\n",
       "  <tbody>\n",
       "    <tr>\n",
       "      <th>v0</th>\n",
       "      <td>1.000000</td>\n",
       "      <td>0.220022</td>\n",
       "    </tr>\n",
       "    <tr>\n",
       "      <th>v1</th>\n",
       "      <td>1.000000</td>\n",
       "      <td>0.000000</td>\n",
       "    </tr>\n",
       "    <tr>\n",
       "      <th>v2</th>\n",
       "      <td>0.110011</td>\n",
       "      <td>0.000000</td>\n",
       "    </tr>\n",
       "    <tr>\n",
       "      <th>M</th>\n",
       "      <td>0.110011</td>\n",
       "      <td>0.000000</td>\n",
       "    </tr>\n",
       "  </tbody>\n",
       "</table>\n",
       "</div>"
      ],
      "text/plain": [
       "<Solution 0.110 at 0x14de6272f70>"
      ]
     },
     "execution_count": 32,
     "metadata": {},
     "output_type": "execute_result"
    }
   ],
   "source": [
    "model_name.optimize()"
   ]
  },
  {
   "cell_type": "code",
   "execution_count": 33,
   "id": "82397673",
   "metadata": {},
   "outputs": [
    {
     "data": {
      "text/html": [
       "<h3>Objective</h3><p>1.0 M = 0.11001100110011001</p><h4>Uptake</h4><table border=\"1\" class=\"dataframe\">\n",
       "  <thead>\n",
       "    <tr style=\"text-align: right;\">\n",
       "      <th>Metabolite</th>\n",
       "      <th>Reaction</th>\n",
       "      <th>Flux</th>\n",
       "      <th>C-Number</th>\n",
       "      <th>C-Flux</th>\n",
       "    </tr>\n",
       "  </thead>\n",
       "  <tbody>\n",
       "    <tr>\n",
       "      <td>glc</td>\n",
       "      <td>v0</td>\n",
       "      <td>1</td>\n",
       "      <td>0</td>\n",
       "      <td>0.00%</td>\n",
       "    </tr>\n",
       "  </tbody>\n",
       "</table><h4>Secretion</h4><table border=\"1\" class=\"dataframe\">\n",
       "  <thead>\n",
       "    <tr style=\"text-align: right;\">\n",
       "      <th>Metabolite</th>\n",
       "      <th>Reaction</th>\n",
       "      <th>Flux</th>\n",
       "      <th>C-Number</th>\n",
       "      <th>C-Flux</th>\n",
       "    </tr>\n",
       "  </thead>\n",
       "  <tbody>\n",
       "    <tr>\n",
       "      <td>Biomass</td>\n",
       "      <td>M</td>\n",
       "      <td>-0.11</td>\n",
       "      <td>0</td>\n",
       "      <td>0.00%</td>\n",
       "    </tr>\n",
       "  </tbody>\n",
       "</table>"
      ],
      "text/plain": [
       "<cobra.summary.model_summary.ModelSummary at 0x14de6272af0>"
      ]
     },
     "execution_count": 33,
     "metadata": {},
     "output_type": "execute_result"
    }
   ],
   "source": [
    "model_name.summary()"
   ]
  },
  {
   "cell_type": "code",
   "execution_count": 34,
   "id": "c8999660",
   "metadata": {},
   "outputs": [],
   "source": [
    "cobra.io.save_json_model(model_name,\"test2.json\")"
   ]
  },
  {
   "cell_type": "code",
   "execution_count": 17,
   "id": "65eba393",
   "metadata": {},
   "outputs": [],
   "source": [
    "builder=Builder()"
   ]
  },
  {
   "cell_type": "code",
   "execution_count": 18,
   "id": "627dc646",
   "metadata": {},
   "outputs": [
    {
     "data": {
      "application/vnd.jupyter.widget-view+json": {
       "model_id": "04d4b7f630c94c708bf78ba4bd1345d8",
       "version_major": 2,
       "version_minor": 0
      },
      "text/plain": [
       "Builder()"
      ]
     },
     "metadata": {},
     "output_type": "display_data"
    }
   ],
   "source": [
    "builder"
   ]
  }
 ],
 "metadata": {
  "kernelspec": {
   "display_name": "Python 3",
   "language": "python",
   "name": "python3"
  },
  "language_info": {
   "codemirror_mode": {
    "name": "ipython",
    "version": 3
   },
   "file_extension": ".py",
   "mimetype": "text/x-python",
   "name": "python",
   "nbconvert_exporter": "python",
   "pygments_lexer": "ipython3",
   "version": "3.8.8"
  }
 },
 "nbformat": 4,
 "nbformat_minor": 5
}
